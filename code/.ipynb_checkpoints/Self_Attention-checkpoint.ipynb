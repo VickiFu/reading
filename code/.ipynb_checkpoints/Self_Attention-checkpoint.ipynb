{
 "cells": [
  {
   "cell_type": "markdown",
   "metadata": {},
   "source": [
    "\"\"\"Example TensorFlow code for Self-Attention mechanism.\n",
    "Refs:\n",
    "    Attention Is All You Need\n",
    "    Ashish Vaswani, Noam Shazeer, Niki Parmar, Jakob Uszkoreit, Llion Jones, Aidan N. Gomez, Lukasz Kaiser, Illia Polosukhin\n",
    "    https://arxiv.org/abs/1706.03762\n",
    "    Transformer: A Novel Neural Network Architecture for Language Understanding\n",
    "    https://research.googleblog.com/2017/08/transformer-novel-neural-network.html\n",
    "    tensor2tensor\n",
    "    https://github.com/tensorflow/tensor2tensor\n",
    "\"\"\""
   ]
  },
  {
   "cell_type": "markdown",
   "metadata": {},
   "source": [
    "## Example TensorFlow code for Self-Attention mechanism."
   ]
  },
  {
   "cell_type": "markdown",
   "metadata": {},
   "source": [
    "### Referrence:\n",
    "* [Attention Is All You Need](https://arxiv.org/abs/1706.03762)\n",
    "Ashish Vaswani, Noam Shazeer, Niki Parmar, Jakob Uszkoreit, Llion Jones, Aidan N. Gomez, Lukasz Kaiser, Illia Polosukhin\n",
    "    Transformer: A Novel Neural Network Architecture for Language Understanding\n",
    "    https://research.googleblog.com/2017/08/transformer-novel-neural-network.html\n",
    "    tensor2tensor\n",
    "    https://github.com/tensorflow/tensor2tensor"
   ]
  }
 ],
 "metadata": {
  "kernelspec": {
   "display_name": "Python 3",
   "language": "python",
   "name": "python3"
  },
  "language_info": {
   "codemirror_mode": {
    "name": "ipython",
    "version": 3
   },
   "file_extension": ".py",
   "mimetype": "text/x-python",
   "name": "python",
   "nbconvert_exporter": "python",
   "pygments_lexer": "ipython3",
   "version": "3.7.3"
  }
 },
 "nbformat": 4,
 "nbformat_minor": 2
}
